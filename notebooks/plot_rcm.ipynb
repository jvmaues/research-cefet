{
  "cells": [
    {
      "cell_type": "code",
      "execution_count": null,
      "metadata": {
        "collapsed": false
      },
      "outputs": [],
      "source": [
        "%matplotlib inline"
      ]
    },
    {
      "cell_type": "markdown",
      "metadata": {},
      "source": [
        "\n",
        "# Reverse Cuthill--McKee\n",
        "\n",
        "Cuthill-McKee ordering of matrices\n",
        "\n",
        "The reverse Cuthill--McKee algorithm gives a sparse matrix ordering that\n",
        "reduces the matrix bandwidth.\n"
      ]
    },
    {
      "cell_type": "code",
      "execution_count": null,
      "metadata": {
        "collapsed": false
      },
      "outputs": [],
      "source": [
        "import numpy as np\n",
        "import matplotlib.pyplot as plt\n",
        "import seaborn as sns\n",
        "import networkx as nx\n",
        "\n",
        "\n",
        "# build low-bandwidth numpy matrix\n",
        "G = nx.grid_2d_graph(3, 3)\n",
        "rcm = list(nx.utils.reverse_cuthill_mckee_ordering(G))\n",
        "print(\"ordering\", rcm)\n",
        "\n",
        "print(\"unordered Laplacian matrix\")\n",
        "A = nx.laplacian_matrix(G)\n",
        "x, y = np.nonzero(A)\n",
        "# print(f\"lower bandwidth: {(y - x).max()}\")\n",
        "# print(f\"upper bandwidth: {(x - y).max()}\")\n",
        "print(f\"bandwidth: {(y - x).max() + (x - y).max() + 1}\")\n",
        "print(A)\n",
        "\n",
        "B = nx.laplacian_matrix(G, nodelist=rcm)\n",
        "print(\"low-bandwidth Laplacian matrix\")\n",
        "x, y = np.nonzero(B)\n",
        "# print(f\"lower bandwidth: {(y - x).max()}\")\n",
        "# print(f\"upper bandwidth: {(x - y).max()}\")\n",
        "print(f\"bandwidth: {(y - x).max() + (x - y).max() + 1}\")\n",
        "print(B)\n",
        "\n",
        "sns.heatmap(B.todense(), cbar=False, square=True, linewidths=0.5, annot=True)\n",
        "plt.show()"
      ]
    }
  ],
  "metadata": {
    "kernelspec": {
      "display_name": "Python 3",
      "language": "python",
      "name": "python3"
    },
    "language_info": {
      "codemirror_mode": {
        "name": "ipython",
        "version": 3
      },
      "file_extension": ".py",
      "mimetype": "text/x-python",
      "name": "python",
      "nbconvert_exporter": "python",
      "pygments_lexer": "ipython3",
      "version": "3.8.10"
    }
  },
  "nbformat": 4,
  "nbformat_minor": 0
}
