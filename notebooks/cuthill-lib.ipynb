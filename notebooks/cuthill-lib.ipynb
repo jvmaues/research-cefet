{
 "cells": [
  {
   "cell_type": "code",
   "execution_count": 2,
   "id": "27ad975b-aa4e-453c-9e77-9d88c9eb1d80",
   "metadata": {},
   "outputs": [],
   "source": [
    "import numpy as np\n",
    "import networkx as nx\n",
    "\n",
    "import math\n",
    "import sys\n",
    "from collections import defaultdict\n",
    "\n",
    "from networkx.utils import cuthill_mckee_ordering\n",
    "from networkx.utils import reverse_cuthill_mckee_ordering\n",
    "\n",
    "from collections import defaultdict\n",
    "\n",
    "import os\n",
    "from os import listdir\n",
    "from os.path import isfile, join\n",
    "\n"
   ]
  },
  {
   "cell_type": "code",
   "execution_count": 3,
   "id": "c7a860b2-10f8-48a3-81b0-ccf00fd53043",
   "metadata": {},
   "outputs": [],
   "source": [
    "\n",
    "def readFilesInDict(path, extension):\n",
    "    onlymtxComp = [os.path.join(path, file) for file in os.listdir(path) if file.endswith(extension)]\n",
    "    return onlymtxComp\n"
   ]
  },
  {
   "cell_type": "code",
   "execution_count": 4,
   "id": "16a088db-fd99-4081-9872-7c86643403e8",
   "metadata": {},
   "outputs": [],
   "source": [
    "#LOAD_INSTANCES\n",
    "def load_instance(filename):\n",
    "\tedges = []\n",
    "\tneighbours = defaultdict(list)\n",
    "\tflag = True\n",
    "\tf = open(filename,'r')\n",
    "\tfor line in f:\n",
    "\n",
    "\t\tif flag == True:\n",
    "\t\t\tnnodes, nedges = [int(x) for x in line.split()]\n",
    "\t\t\tflag = False\n",
    "\t\telse:\n",
    "\t\t\te1, e2 = [int(x) for x in line.split()]\n",
    "\t\t\tif e1!=e2 :\n",
    "\t\t\t\tedges.append((min(e1,e2),max(e1,e2)))\n",
    "\t\t\t\tneighbours[e1].append(e2)\n",
    "\t\t\t\tneighbours[e2].append(e1)\n",
    "\t\t\telse:\n",
    "\t\t\t\tnedges = nedges - 1\n",
    "\tf.close()\n",
    "\n",
    "\tf = []\n",
    "\t\n",
    "\tfor v in neighbours:\n",
    "\t\tf.append(v)\n",
    "\n",
    "\tnodes = []\n",
    "\n",
    "\tfor v in neighbours:\n",
    "\t\tnodes.append(v)\n",
    "\n",
    "\tlista_adj = []\n",
    "\n",
    "\tfor n in nodes:\n",
    "\t\tlista_adj.append(neighbours[n])\n",
    "\t\t\n",
    "\treturn nnodes, nedges, edges, neighbours, lista_adj"
   ]
  },
  {
   "cell_type": "code",
   "execution_count": 5,
   "id": "74b02678-d6ed-44dd-a53f-0adf9486c4fd",
   "metadata": {},
   "outputs": [],
   "source": [
    "mypath = \"../data\"\n",
    "\n",
    "list_path = readFilesInDict(mypath, '.mtx')\n"
   ]
  },
  {
   "cell_type": "code",
   "execution_count": 6,
   "id": "e8d570b9-626f-4873-8b57-dca7bcc31733",
   "metadata": {},
   "outputs": [
    {
     "name": "stdout",
     "output_type": "stream",
     "text": [
      "######################### ../data/dwt_918.mtx ############################\n"
     ]
    },
    {
     "name": "stderr",
     "output_type": "stream",
     "text": [
      "/tmp/ipykernel_37338/2323193740.py:37: FutureWarning: adjacency_matrix will return a scipy.sparse array instead of a matrix in Networkx 3.0.\n",
      "  A = nx.adjacency_matrix(G)\n"
     ]
    },
    {
     "ename": "ModuleNotFoundError",
     "evalue": "No module named 'scipy'",
     "output_type": "error",
     "traceback": [
      "\u001b[0;31m---------------------------------------------------------------------------\u001b[0m",
      "\u001b[0;31mModuleNotFoundError\u001b[0m                       Traceback (most recent call last)",
      "\u001b[1;32m/home/joaovitor/Documents/Pesquisa/research-cefet/notebooks/cuthill-lib.ipynb Cell 5'\u001b[0m in \u001b[0;36m<cell line: 26>\u001b[0;34m()\u001b[0m\n\u001b[1;32m     <a href='vscode-notebook-cell:/home/joaovitor/Documents/Pesquisa/research-cefet/notebooks/cuthill-lib.ipynb#ch0000004?line=33'>34</a>\u001b[0m G\u001b[39m.\u001b[39madd_edges_from(edges)\n\u001b[1;32m     <a href='vscode-notebook-cell:/home/joaovitor/Documents/Pesquisa/research-cefet/notebooks/cuthill-lib.ipynb#ch0000004?line=35'>36</a>\u001b[0m \u001b[39m#original Bandwidth\u001b[39;00m\n\u001b[0;32m---> <a href='vscode-notebook-cell:/home/joaovitor/Documents/Pesquisa/research-cefet/notebooks/cuthill-lib.ipynb#ch0000004?line=36'>37</a>\u001b[0m A \u001b[39m=\u001b[39m nx\u001b[39m.\u001b[39madjacency_matrix(G)\n\u001b[1;32m     <a href='vscode-notebook-cell:/home/joaovitor/Documents/Pesquisa/research-cefet/notebooks/cuthill-lib.ipynb#ch0000004?line=37'>38</a>\u001b[0m x1, y1 \u001b[39m=\u001b[39m np\u001b[39m.\u001b[39mnonzero(A)\n\u001b[1;32m     <a href='vscode-notebook-cell:/home/joaovitor/Documents/Pesquisa/research-cefet/notebooks/cuthill-lib.ipynb#ch0000004?line=38'>39</a>\u001b[0m w1 \u001b[39m=\u001b[39m (y1 \u001b[39m-\u001b[39m x1)\u001b[39m.\u001b[39mmax() \u001b[39m+\u001b[39m (x1 \u001b[39m-\u001b[39m y1)\u001b[39m.\u001b[39mmax() \u001b[39m+\u001b[39m \u001b[39m1\u001b[39m\n",
      "File \u001b[0;32m~/.local/lib/python3.8/site-packages/networkx/linalg/graphmatrix.py:173\u001b[0m, in \u001b[0;36madjacency_matrix\u001b[0;34m(G, nodelist, dtype, weight)\u001b[0m\n\u001b[1;32m    <a href='file:///~/.local/lib/python3.8/site-packages/networkx/linalg/graphmatrix.py?line=166'>167</a>\u001b[0m warnings\u001b[39m.\u001b[39mwarn(\n\u001b[1;32m    <a href='file:///~/.local/lib/python3.8/site-packages/networkx/linalg/graphmatrix.py?line=167'>168</a>\u001b[0m     \u001b[39m\"\u001b[39m\u001b[39madjacency_matrix will return a scipy.sparse array instead of a matrix in Networkx 3.0.\u001b[39m\u001b[39m\"\u001b[39m,\n\u001b[1;32m    <a href='file:///~/.local/lib/python3.8/site-packages/networkx/linalg/graphmatrix.py?line=168'>169</a>\u001b[0m     \u001b[39mFutureWarning\u001b[39;00m,\n\u001b[1;32m    <a href='file:///~/.local/lib/python3.8/site-packages/networkx/linalg/graphmatrix.py?line=169'>170</a>\u001b[0m     stacklevel\u001b[39m=\u001b[39m\u001b[39m2\u001b[39m,\n\u001b[1;32m    <a href='file:///~/.local/lib/python3.8/site-packages/networkx/linalg/graphmatrix.py?line=170'>171</a>\u001b[0m )\n\u001b[1;32m    <a href='file:///~/.local/lib/python3.8/site-packages/networkx/linalg/graphmatrix.py?line=171'>172</a>\u001b[0m \u001b[39m# TODO: Change to `to_scipy_sparse_array` for networkx 3.0\u001b[39;00m\n\u001b[0;32m--> <a href='file:///~/.local/lib/python3.8/site-packages/networkx/linalg/graphmatrix.py?line=172'>173</a>\u001b[0m \u001b[39mreturn\u001b[39;00m nx\u001b[39m.\u001b[39;49mto_scipy_sparse_matrix(G, nodelist\u001b[39m=\u001b[39;49mnodelist, dtype\u001b[39m=\u001b[39;49mdtype, weight\u001b[39m=\u001b[39;49mweight)\n",
      "File \u001b[0;32m~/.local/lib/python3.8/site-packages/networkx/convert_matrix.py:1008\u001b[0m, in \u001b[0;36mto_scipy_sparse_matrix\u001b[0;34m(G, nodelist, dtype, weight, format)\u001b[0m\n\u001b[1;32m    <a href='file:///~/.local/lib/python3.8/site-packages/networkx/convert_matrix.py?line=927'>928</a>\u001b[0m \u001b[39mdef\u001b[39;00m \u001b[39mto_scipy_sparse_matrix\u001b[39m(G, nodelist\u001b[39m=\u001b[39m\u001b[39mNone\u001b[39;00m, dtype\u001b[39m=\u001b[39m\u001b[39mNone\u001b[39;00m, weight\u001b[39m=\u001b[39m\u001b[39m\"\u001b[39m\u001b[39mweight\u001b[39m\u001b[39m\"\u001b[39m, \u001b[39mformat\u001b[39m\u001b[39m=\u001b[39m\u001b[39m\"\u001b[39m\u001b[39mcsr\u001b[39m\u001b[39m\"\u001b[39m):\n\u001b[1;32m    <a href='file:///~/.local/lib/python3.8/site-packages/networkx/convert_matrix.py?line=928'>929</a>\u001b[0m     \u001b[39m\"\"\"Returns the graph adjacency matrix as a SciPy sparse matrix.\u001b[39;00m\n\u001b[1;32m    <a href='file:///~/.local/lib/python3.8/site-packages/networkx/convert_matrix.py?line=929'>930</a>\u001b[0m \n\u001b[1;32m    <a href='file:///~/.local/lib/python3.8/site-packages/networkx/convert_matrix.py?line=930'>931</a>\u001b[0m \u001b[39m    Parameters\u001b[39;00m\n\u001b[0;32m   (...)\u001b[0m\n\u001b[1;32m   <a href='file:///~/.local/lib/python3.8/site-packages/networkx/convert_matrix.py?line=1005'>1006</a>\u001b[0m \u001b[39m       https://docs.scipy.org/doc/scipy/reference/sparse.html\u001b[39;00m\n\u001b[1;32m   <a href='file:///~/.local/lib/python3.8/site-packages/networkx/convert_matrix.py?line=1006'>1007</a>\u001b[0m \u001b[39m    \"\"\"\u001b[39;00m\n\u001b[0;32m-> <a href='file:///~/.local/lib/python3.8/site-packages/networkx/convert_matrix.py?line=1007'>1008</a>\u001b[0m     \u001b[39mimport\u001b[39;00m \u001b[39mscipy\u001b[39;00m \u001b[39mas\u001b[39;00m \u001b[39msp\u001b[39;00m\n\u001b[1;32m   <a href='file:///~/.local/lib/python3.8/site-packages/networkx/convert_matrix.py?line=1008'>1009</a>\u001b[0m     \u001b[39mimport\u001b[39;00m \u001b[39mscipy\u001b[39;00m\u001b[39m.\u001b[39;00m\u001b[39msparse\u001b[39;00m\n\u001b[1;32m   <a href='file:///~/.local/lib/python3.8/site-packages/networkx/convert_matrix.py?line=1010'>1011</a>\u001b[0m     warnings\u001b[39m.\u001b[39mwarn(\n\u001b[1;32m   <a href='file:///~/.local/lib/python3.8/site-packages/networkx/convert_matrix.py?line=1011'>1012</a>\u001b[0m         (\n\u001b[1;32m   <a href='file:///~/.local/lib/python3.8/site-packages/networkx/convert_matrix.py?line=1012'>1013</a>\u001b[0m             \u001b[39m\"\u001b[39m\u001b[39m\\n\u001b[39;00m\u001b[39m\\n\u001b[39;00m\u001b[39mThe scipy.sparse array containers will be used instead of matrices\u001b[39m\u001b[39m\\n\u001b[39;00m\u001b[39m\"\u001b[39m\n\u001b[0;32m   (...)\u001b[0m\n\u001b[1;32m   <a href='file:///~/.local/lib/python3.8/site-packages/networkx/convert_matrix.py?line=1016'>1017</a>\u001b[0m         stacklevel\u001b[39m=\u001b[39m\u001b[39m2\u001b[39m,\n\u001b[1;32m   <a href='file:///~/.local/lib/python3.8/site-packages/networkx/convert_matrix.py?line=1017'>1018</a>\u001b[0m     )\n",
      "\u001b[0;31mModuleNotFoundError\u001b[0m: No module named 'scipy'"
     ]
    }
   ],
   "source": [
    "# CUTCHILL MCKEE\n",
    "def cuthill(lista):\n",
    "    G = nx.Graph()\n",
    "    G.add_edges_from(lista)\n",
    "    rcm1 = list(cuthill_mckee_ordering(G))\n",
    "    A = nx.laplacian_matrix(G, nodelist=rcm1)\n",
    "    x1, y1 = np.nonzero(A)\n",
    "    return(y1 - x1).max() + (x1 - y1).max() + 1\n",
    "\n",
    "# REVERSE CUTCHILL MCKEE\n",
    "def reverse_cuthill(lista): \n",
    "    G = nx.Graph()\n",
    "    G.add_edges_from(lista)\n",
    "    rcm2 = list(reverse_cuthill_mckee_ordering(G))\n",
    "    B = nx.laplacian_matrix(G, nodelist=rcm2)\n",
    "    x2, y2 = np.nonzero(B)\n",
    "    return (y2 - x2).max() + (x2 - y2).max() + 1\n",
    "\n",
    "def smallest_degree(G):\n",
    "    return min(G, key=G.degree)\n",
    "\n",
    "\n",
    "#filename = \"../data/494_bus.mtx\"\n",
    "\n",
    "\n",
    "for name in list_path:\n",
    "    \n",
    "    nnodes, nedges, edges, neighbours, lista_adj = load_instance(name)\n",
    "    \n",
    "    print(\"#########################\",name,\"############################\")\n",
    "    # G = nx.path_graph(4)\n",
    "    #instanciou o Graph\n",
    "    G = nx.Graph()\n",
    "    G.add_edges_from(edges)\n",
    "\n",
    "    #original Bandwidth\n",
    "    A = nx.adjacency_matrix(G)\n",
    "    x1, y1 = np.nonzero(A)\n",
    "    w1 = (y1 - x1).max() + (x1 - y1).max() + 1\n",
    "    print(f\"original bandwidth: {w1}\")\n",
    "\n",
    "    #low bandwidth cuthillmckee\n",
    "    rcm1 = list(cuthill_mckee_ordering(G, heuristic=smallest_degree))\n",
    "    B = nx.adjacency_matrix(G, nodelist=rcm1)\n",
    "    x2, y2 = np.nonzero(B)\n",
    "    w2 = (y2 - x2).max() + (x2 - y2).max() + 1\n",
    "    print(f\"low bandwidth: {w2}\")\n",
    "\n",
    "    #low bandwidth reverse cuthillmckee\n",
    "    rcm2 = list(reverse_cuthill_mckee_ordering(G, heuristic=smallest_degree))\n",
    "    C = nx.adjacency_matrix(G, nodelist=rcm2)\n",
    "    x3, y3 = np.nonzero(B)\n",
    "    w3 = (y3 - x3).max() + (x3 - y3).max() + 1\n",
    "    print(f\"low bandwidth reverse: {w3}\")\n",
    "    \n",
    "\n"
   ]
  },
  {
   "cell_type": "code",
   "execution_count": null,
   "id": "10c6b5a7-891b-47cf-89bb-68b3ebf93cd5",
   "metadata": {},
   "outputs": [],
   "source": []
  },
  {
   "cell_type": "code",
   "execution_count": null,
   "id": "56ea7112-0ff0-4c65-a1d9-6f5fb09ecfb8",
   "metadata": {},
   "outputs": [],
   "source": []
  }
 ],
 "metadata": {
  "kernelspec": {
   "display_name": "Python 3 (ipykernel)",
   "language": "python",
   "name": "python3"
  },
  "language_info": {
   "codemirror_mode": {
    "name": "ipython",
    "version": 3
   },
   "file_extension": ".py",
   "mimetype": "text/x-python",
   "name": "python",
   "nbconvert_exporter": "python",
   "pygments_lexer": "ipython3",
   "version": "3.8.10"
  }
 },
 "nbformat": 4,
 "nbformat_minor": 5
}
